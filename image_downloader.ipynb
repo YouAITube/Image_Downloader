{
  "nbformat": 4,
  "nbformat_minor": 0,
  "metadata": {
    "colab": {
      "provenance": []
    },
    "kernelspec": {
      "name": "python3",
      "display_name": "Python 3"
    },
    "language_info": {
      "name": "python"
    }
  },
  "cells": [
    {
      "cell_type": "markdown",
      "source": [
        "https://afb.hashnode.dev/how-to-download-bulk-images-using-bing-image-downloader"
      ],
      "metadata": {
        "id": "O3w56eblnUDb"
      }
    },
    {
      "cell_type": "code",
      "source": [],
      "metadata": {
        "id": "f-um4cD3noAX"
      },
      "execution_count": null,
      "outputs": []
    },
    {
      "cell_type": "code",
      "execution_count": 1,
      "metadata": {
        "colab": {
          "base_uri": "https://localhost:8080/"
        },
        "id": "7COf_IQdiCF1",
        "outputId": "cc2b6585-8a17-4e93-c27e-644d83abae47"
      },
      "outputs": [
        {
          "output_type": "stream",
          "name": "stdout",
          "text": [
            "Collecting bing-image-downloader\n",
            "  Downloading bing_image_downloader-1.1.2-py3-none-any.whl (5.9 kB)\n",
            "Installing collected packages: bing-image-downloader\n",
            "Successfully installed bing-image-downloader-1.1.2\n"
          ]
        }
      ],
      "source": [
        "!pip install bing-image-downloader"
      ]
    },
    {
      "cell_type": "code",
      "source": [
        "from bing_image_downloader.downloader import download\n",
        "from PIL import Image\n",
        "import pandas as pd\n",
        "import matplotlib.pyplot as plt\n",
        "import os, sys\n",
        "import glob\n",
        "import json"
      ],
      "metadata": {
        "id": "zzoMDbCYiGqO"
      },
      "execution_count": 13,
      "outputs": []
    },
    {
      "cell_type": "code",
      "source": [
        "with open('actors.json', 'r') as fp:\n",
        "   dict_act = json.load(fp)\n",
        "\n",
        "SIZE = 2"
      ],
      "metadata": {
        "id": "Io7lqpHxiTkp"
      },
      "execution_count": 4,
      "outputs": []
    },
    {
      "cell_type": "code",
      "source": [
        "dict_act[:2]"
      ],
      "metadata": {
        "colab": {
          "base_uri": "https://localhost:8080/"
        },
        "id": "s0LmpUbbiXjZ",
        "outputId": "0240f069-cd6c-4e52-cc0d-3df441a6e7e6"
      },
      "execution_count": 5,
      "outputs": [
        {
          "output_type": "execute_result",
          "data": {
            "text/plain": [
              "[{'name': 'Catherine Missal',\n",
              "  'rating': 4875,\n",
              "  'image_path': '/g3fsRgEoMxaqPayIMtGDWERqJ6A.jpg',\n",
              "  'alternative_name': None,\n",
              "  'objectID': '551486300'},\n",
              " {'name': 'Monica Bellucci',\n",
              "  'rating': 3956,\n",
              "  'image_path': '/z3sLuRKP7hQVrvSTsqdLjGSldwG.jpg',\n",
              "  'alternative_name': 'Monica Anna Maria Bellucci',\n",
              "  'objectID': '551486310'}]"
            ]
          },
          "metadata": {},
          "execution_count": 5
        }
      ]
    },
    {
      "cell_type": "code",
      "source": [
        "df = pd.DataFrame(dict_act)\n",
        "# Extract all names from the 'name' column\n",
        "names = df['name'].tolist()"
      ],
      "metadata": {
        "id": "no-n0d7Pm46f"
      },
      "execution_count": 27,
      "outputs": []
    },
    {
      "cell_type": "code",
      "source": [
        "\n",
        "# Iterate through each name and download 15 photos for each person\n",
        "for name in names[:2]:\n",
        "    dir_ = f'dataset/'\n",
        "    # Create the directory if it doesn't exist\n",
        "    os.makedirs(dir_, exist_ok=True)\n",
        "    str_face=f'{name}'\n",
        "    # Download a photo for the current name\n",
        "    download(str_face,\n",
        "             limit=15,\n",
        "             output_dir=dir_,\n",
        "             adult_filter_off=True,\n",
        "             force_replace=False,\n",
        "             timeout=60,\n",
        "             verbose=True)\n"
      ],
      "metadata": {
        "colab": {
          "base_uri": "https://localhost:8080/"
        },
        "id": "nhudPf_HierW",
        "outputId": "92a96c27-c41b-4485-d070-f0530565c83a"
      },
      "execution_count": 7,
      "outputs": [
        {
          "output_type": "stream",
          "name": "stdout",
          "text": [
            "[%] Downloading Images to /content/dataset/Catherine Missal\n",
            "\n",
            "\n",
            "[!!]Indexing page: 1\n",
            "\n",
            "[%] Indexed 15 Images on Page 1.\n",
            "\n",
            "===============================================\n",
            "\n",
            "[%] Downloading Image #1 from http://www.gotceleb.com/wp-content/uploads/photos/catherine-missal/vacation-premiere-in-westwood/Catherine-Missal:-Vacation-Premiere--21.jpg\n",
            "[%] File Downloaded !\n",
            "\n",
            "[%] Downloading Image #2 from https://www.gotceleb.com/wp-content/uploads/photos/catherine-missal/vacation-premiere-in-westwood/Catherine-Missal:-Vacation-Premiere--14.jpg\n",
            "[%] File Downloaded !\n",
            "\n",
            "[%] Downloading Image #3 from https://superstarsbio.com/wp-content/uploads/2018/11/Catherine-Missal3.jpg\n",
            "[%] File Downloaded !\n",
            "\n",
            "[%] Downloading Image #4 from https://c8.alamy.com/comp/2HY7GGA/catherine-missal-arriving-for-the-vacation-premiere-held-at-the-regency-village-theatre-westwood-los-angeles-2HY7GGA.jpg\n",
            "[%] File Downloaded !\n",
            "\n",
            "[%] Downloading Image #5 from https://biographytribune.com/wp-content/uploads/2020/02/1118full-catherine-missal.jpg\n",
            "[%] File Downloaded !\n",
            "\n",
            "[%] Downloading Image #6 from https://iv1.lisimg.com/image/10043189/698full-catherine-missal.jpg\n",
            "[%] File Downloaded !\n",
            "\n",
            "[%] Downloading Image #7 from https://biographypedia.org/wp-content/uploads/2019/09/Catherine-Missal_-Vacation-Premiere-18-654x1024.jpg\n",
            "[%] File Downloaded !\n",
            "\n",
            "[%] Downloading Image #8 from https://www.gotceleb.com/wp-content/uploads/photos/catherine-missal/vacation-premiere-in-westwood/Catherine-Missal:-Vacation-Premiere--03.jpg\n",
            "[%] File Downloaded !\n",
            "\n",
            "[%] Downloading Image #9 from http://www.gotceleb.com/wp-content/uploads/photos/catherine-missal/vacation-premiere-in-westwood/Catherine-Missal:-Vacation-Premiere--11.jpg\n",
            "[%] File Downloaded !\n",
            "\n",
            "[%] Downloading Image #10 from https://marriedceleb.com/uploads/biography/2021/12/17/Catherine Missal123-min-1639732588633.jpg\n",
            "[!] Issue getting: https://marriedceleb.com/uploads/biography/2021/12/17/Catherine Missal123-min-1639732588633.jpg\n",
            "[!] Error:: URL can't contain control characters. '/uploads/biography/2021/12/17/Catherine Missal123-min-1639732588633.jpg' (found at least ' ')\n",
            "[%] Downloading Image #10 from https://www.gotceleb.com/wp-content/uploads/photos/catherine-missal/vacation-premiere-in-westwood/Catherine-Missal:-Vacation-Premiere--19-662x836.jpg\n",
            "[%] File Downloaded !\n",
            "\n",
            "[%] Downloading Image #11 from https://superstarsbio.com/wp-content/uploads/2018/11/Catherine-Missal.jpg\n",
            "[%] File Downloaded !\n",
            "\n",
            "[%] Downloading Image #12 from http://www.gotceleb.com/wp-content/uploads/photos/catherine-missal/vacation-premiere-in-westwood/Catherine-Missal:-Vacation-Premiere--20-662x925.jpg\n",
            "[%] File Downloaded !\n",
            "\n",
            "[%] Downloading Image #13 from https://www.gotceleb.com/wp-content/uploads/photos/catherine-missal/vacation-premiere-in-westwood/Catherine-Missal:-Vacation-Premiere--05.jpg\n",
            "[%] File Downloaded !\n",
            "\n",
            "[%] Downloading Image #14 from https://i.pinimg.com/originals/d8/9b/a9/d89ba97f2823401acdf12caadf54f8b5.jpg\n",
            "[%] File Downloaded !\n",
            "\n",
            "\n",
            "\n",
            "[!!]Indexing page: 2\n",
            "\n",
            "[%] Indexed 35 Images on Page 2.\n",
            "\n",
            "===============================================\n",
            "\n",
            "[%] Downloading Image #15 from https://c8.alamy.com/comp/F31HM0/film-premiere-vacation-featuring-catherine-missal-where-los-angeles-F31HM0.jpg\n",
            "[%] File Downloaded !\n",
            "\n",
            "\n",
            "\n",
            "[%] Done. Downloaded 15 images.\n",
            "[%] Downloading Images to /content/dataset/Monica Bellucci\n",
            "\n",
            "\n",
            "[!!]Indexing page: 1\n",
            "\n",
            "[%] Indexed 15 Images on Page 1.\n",
            "\n",
            "===============================================\n",
            "\n",
            "[%] Downloading Image #1 from http://www.theplace2.ru/archive/monica_bellucci/img/0613121627573_02_MB0.jpg\n",
            "[%] File Downloaded !\n",
            "\n",
            "[%] Downloading Image #2 from http://images.fanpop.com/images/image_uploads/Monica-Bellucci-Candid-monica-bellucci-234357_1273_1920.jpg\n",
            "[%] File Downloaded !\n",
            "\n",
            "[%] Downloading Image #3 from https://images6.fanpop.com/image/photos/43800000/Monica-Bellucci-monica-bellucci-43884301-1200-1800.jpg\n",
            "[%] File Downloaded !\n",
            "\n",
            "[%] Downloading Image #4 from https://www.theplace2.ru/archive/monica_bellucci/img/25028.jpg\n",
            "[%] File Downloaded !\n",
            "\n",
            "[%] Downloading Image #5 from https://celebmafia.com/wp-content/uploads/2018/11/monica-bellucci-arriving-at-a-recording-for-vivement-dimanche-tv-show-in-paris-10-31-2018-8.jpg\n",
            "[%] File Downloaded !\n",
            "\n",
            "[%] Downloading Image #6 from http://images.fanpop.com/images/image_uploads/Monica-Bellucci-Candid-monica-bellucci-234014_1277_1920.jpg\n",
            "[%] File Downloaded !\n",
            "\n",
            "[%] Downloading Image #7 from https://images6.fanpop.com/image/photos/40900000/Monica-Bellucci-for-7000-Magazine-November-2013-monica-bellucci-40990697-950-1266.jpg\n",
            "[%] File Downloaded !\n",
            "\n",
            "[%] Downloading Image #8 from https://media.vogue.co.uk/photos/6155794245979c174c07cc98/master/w_1600%2Cc_limit/GettyImages-51503334.jpg\n",
            "[%] File Downloaded !\n",
            "\n",
            "[%] Downloading Image #9 from https://3.bp.blogspot.com/-I7nrFdgql7o/V1gbadrCRfI/AAAAAAAAEpc/e7zZes5Xau4Tn_j7RYR6kaZBkD0igGCngCLcB/s1600/monica-bellucci-conde-nast-traveller-22july15-rex.jpg\n",
            "[%] File Downloaded !\n",
            "\n",
            "[%] Downloading Image #10 from https://images6.fanpop.com/image/photos/43800000/Monica-Bellucci-monica-bellucci-43884315-1470-2205.jpg\n",
            "[%] File Downloaded !\n",
            "\n",
            "[%] Downloading Image #11 from https://upload.wikimedia.org/wikipedia/commons/3/31/Monica_Bellucci%2C_Women's_World_Awards_2009_b.jpg\n",
            "[%] File Downloaded !\n",
            "\n",
            "[%] Downloading Image #12 from http://3.bp.blogspot.com/-LgpyJNC827Q/UQPEefd_j3I/AAAAAAAAav0/5LPforyLoNU/s1600/Monica-Bellucci-Pictures-Latest-5.jpg\n",
            "[%] File Downloaded !\n",
            "\n",
            "[%] Downloading Image #13 from https://media.vogue.co.uk/photos/609aa303743763a8bde68c63/master/w_1600%2Cc_limit/GettyImages-2280351.jpg\n",
            "[%] File Downloaded !\n",
            "\n",
            "[%] Downloading Image #14 from http://monicabellucci.net/wp-content/uploads/2018/10/Monica-Bellucci-Nivea.jpg\n",
            "[%] File Downloaded !\n",
            "\n",
            "[%] Downloading Image #15 from http://1.bp.blogspot.com/-AEbesaLx3as/UQPENTwzLYI/AAAAAAAAaqQ/LBSDDYadq9I/s1600/6987,xcitefun-monica-bellucci-7.jpg\n",
            "[%] File Downloaded !\n",
            "\n",
            "\n",
            "\n",
            "[%] Done. Downloaded 15 images.\n"
          ]
        }
      ]
    },
    {
      "cell_type": "code",
      "source": [
        "glob.glob(f'dataset/''Monica Bellucci''/*')"
      ],
      "metadata": {
        "colab": {
          "base_uri": "https://localhost:8080/"
        },
        "id": "UwAcTILWi6OP",
        "outputId": "c6de120f-12d1-493b-936e-cd29c1bb6ccd"
      },
      "execution_count": 9,
      "outputs": [
        {
          "output_type": "execute_result",
          "data": {
            "text/plain": [
              "['dataset/Monica Bellucci/Image_15.jpg',\n",
              " 'dataset/Monica Bellucci/Image_4.jpg',\n",
              " 'dataset/Monica Bellucci/Image_11.jpg',\n",
              " 'dataset/Monica Bellucci/Image_14.jpg',\n",
              " 'dataset/Monica Bellucci/Image_5.jpg',\n",
              " 'dataset/Monica Bellucci/Image_7.jpg',\n",
              " 'dataset/Monica Bellucci/Image_13.jpg',\n",
              " 'dataset/Monica Bellucci/Image_12.jpg',\n",
              " 'dataset/Monica Bellucci/Image_8.jpg',\n",
              " 'dataset/Monica Bellucci/Image_1.jpg',\n",
              " 'dataset/Monica Bellucci/Image_3.jpg',\n",
              " 'dataset/Monica Bellucci/Image_9.jpg',\n",
              " 'dataset/Monica Bellucci/Image_6.jpg',\n",
              " 'dataset/Monica Bellucci/Image_10.jpg',\n",
              " 'dataset/Monica Bellucci/Image_2.jpg']"
            ]
          },
          "metadata": {},
          "execution_count": 9
        }
      ]
    }
  ]
}